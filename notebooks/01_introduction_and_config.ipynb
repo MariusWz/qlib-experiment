{
 "cells": [
  {
   "cell_type": "markdown",
   "metadata": {},
   "source": [
    "# Chapter 1: Introduction to Qlib and Basic Configuration\n",
    "# 第一章：Qlib 简介与基础配置\n",
    "\n",
    "**Author**: Microsoft Qlib Team  \n",
    "**License**: MIT License  \n",
    "**Last Updated**: 2025-01-09\n",
    "\n",
    "---"
   ]
  },
  {
   "cell_type": "markdown",
   "metadata": {},
   "source": [
    "## 📚 Table of Contents / 目录\n",
    "\n",
    "1. [What is Qlib? / Qlib是什么？](#what-is-qlib)\n",
    "2. [Installation / 安装](#installation)\n",
    "3. [Basic Configuration / 基础配置](#basic-configuration)\n",
    "4. [Qlib Architecture / Qlib架构](#qlib-architecture)\n",
    "5. [Key Concepts / 核心概念](#key-concepts)\n",
    "6. [Setting Up Your First Experiment / 设置第一个实验](#first-experiment)\n",
    "7. [Common Configuration Patterns / 常用配置模式](#configuration-patterns)\n",
    "8. [Next Steps / 下一步](#next-steps)"
   ]
  },
  {
   "cell_type": "markdown",
   "metadata": {},
   "source": [
    "## 1. What is Qlib? / Qlib是什么？ <a id='what-is-qlib'></a>\n",
    "\n",
    "### English\n",
    "**Qlib** is an AI-oriented quantitative investment platform developed by Microsoft, designed to facilitate research and implementation of quantitative trading strategies. It provides:\n",
    "\n",
    "- **Infrastructure** for managing financial data\n",
    "- **High-performance** data processing and caching\n",
    "- **Machine Learning** toolkit specifically designed for finance\n",
    "- **Backtesting** framework for strategy evaluation\n",
    "- **Workflow Management** for reproducible research\n",
    "\n",
    "### 中文\n",
    "**Qlib** 是微软开发的面向AI的量化投资平台，旨在促进量化交易策略的研究和实施。它提供：\n",
    "\n",
    "- 金融数据管理**基础设施**\n",
    "- **高性能**数据处理和缓存\n",
    "- 专为金融设计的**机器学习**工具包\n",
    "- 策略评估的**回测**框架\n",
    "- 可重现研究的**工作流管理**"
   ]
  },
  {
   "cell_type": "markdown",
   "metadata": {},
   "source": [
    "## 2. Installation / 安装 <a id='installation'></a>\n",
    "\n",
    "### Step 1: Install Qlib / 第一步：安装Qlib"
   ]
  },
  {
   "cell_type": "code",
   "execution_count": 60,
   "metadata": {},
   "outputs": [],
   "source": [
    "# Install Qlib from PyPI / 从PyPI安装Qlib\n",
    "# Uncomment the following line to install / 取消注释以下行进行安装\n",
    "# !pip install qlib\n",
    "\n",
    "# Or install from source for latest features / 或从源码安装以获得最新功能\n",
    "# !git clone https://github.com/microsoft/qlib.git\n",
    "# !cd qlib && pip install .\n",
    "\n",
    "# Install additional dependencies / 安装额外依赖\n",
    "# !pip install lightgbm matplotlib plotly pandas numpy"
   ]
  },
  {
   "cell_type": "markdown",
   "metadata": {},
   "source": [
    "### Step 2: Verify Installation / 第二步：验证安装"
   ]
  },
  {
   "cell_type": "code",
   "execution_count": 61,
   "metadata": {},
   "outputs": [
    {
     "name": "stdout",
     "output_type": "stream",
     "text": [
      "Python version: 3.12.11 | packaged by Anaconda, Inc. | (main, Jun  5 2025, 12:58:53) [MSC v.1929 64 bit (AMD64)]\n",
      "--------------------------------------------------\n",
      "✅ Qlib version: 0.9.7\n",
      "✅ pandas: 2.3.2\n",
      "✅ numpy: 2.3.2\n",
      "✅ matplotlib: 3.10.6\n",
      "✅ lightgbm: 4.6.0\n",
      "✅ plotly: 6.3.0\n"
     ]
    }
   ],
   "source": [
    "import sys\n",
    "import warnings\n",
    "warnings.filterwarnings('ignore')\n",
    "\n",
    "# Check Python version / 检查Python版本\n",
    "print(f\"Python version: {sys.version}\")\n",
    "print(\"-\" * 50)\n",
    "\n",
    "# Import and check Qlib / 导入并检查Qlib\n",
    "try:\n",
    "    import qlib\n",
    "    print(f\"✅ Qlib version: {qlib.__version__}\")\n",
    "except ImportError:\n",
    "    print(\"❌ Qlib not installed. Please install it first.\")\n",
    "\n",
    "# Check other dependencies / 检查其他依赖\n",
    "dependencies = {\n",
    "    'pandas': 'pd',\n",
    "    'numpy': 'np',\n",
    "    'matplotlib': 'plt',\n",
    "    'lightgbm': 'lgb',\n",
    "    'plotly': 'plotly'\n",
    "}\n",
    "\n",
    "for package, alias in dependencies.items():\n",
    "    try:\n",
    "        module = __import__(package)\n",
    "        print(f\"✅ {package}: {module.__version__}\")\n",
    "    except ImportError:\n",
    "        print(f\"⚠️ {package}: Not installed (optional)\")"
   ]
  },
  {
   "cell_type": "markdown",
   "metadata": {},
   "source": [
    "## 3. Basic Configuration / 基础配置 <a id='basic-configuration'></a>\n",
    "\n",
    "### 3.1 Initialize Qlib / 初始化Qlib"
   ]
  },
  {
   "cell_type": "code",
   "execution_count": 62,
   "metadata": {},
   "outputs": [
    {
     "name": "stderr",
     "output_type": "stream",
     "text": [
      "[23872:MainThread](2025-09-10 00:51:25,442) INFO - qlib.Initialization - [config.py:452] - default_conf: client.\n",
      "[23872:MainThread](2025-09-10 00:51:25,443) INFO - qlib.Initialization - [__init__.py:75] - qlib successfully initialized based on client settings.\n",
      "[23872:MainThread](2025-09-10 00:51:25,444) INFO - qlib.Initialization - [__init__.py:77] - data_path={'__DEFAULT_FREQ': WindowsPath('C:/Users/zihao/.qlib/qlib_data/cn_data')}\n"
     ]
    },
    {
     "name": "stdout",
     "output_type": "stream",
     "text": [
      "✅ Qlib initialized with default settings\n"
     ]
    }
   ],
   "source": [
    "import qlib\n",
    "from pathlib import Path\n",
    "\n",
    "# Method 1: Default initialization / 方法1：默认初始化\n",
    "# This will use the default data directory ~/.qlib/qlib_data/cn_data\n",
    "# 这将使用默认数据目录 ~/.qlib/qlib_data/cn_data\n",
    "qlib.init()\n",
    "\n",
    "print(\"✅ Qlib initialized with default settings\")"
   ]
  },
  {
   "cell_type": "code",
   "execution_count": 63,
   "metadata": {},
   "outputs": [],
   "source": [
    "# Method 2: Custom initialization / 方法2：自定义初始化\n",
    "# You can specify custom paths and settings / 你可以指定自定义路径和设置\n",
    "\n",
    "# custom_config = {\n",
    "#     \"provider_uri\": \"~/.qlib/qlib_data/cn_data\",  # Data directory / 数据目录\n",
    "#     \"region\": \"cn\",  # Region: cn (China) or us (United States) / 地区：cn（中国）或us（美国）\n",
    "#     \"redis_host\": \"127.0.0.1\",  # Optional: Redis for caching / 可选：Redis缓存\n",
    "#     \"redis_port\": 6379,\n",
    "#     \"kernels\": 1,  # Number of kernels for parallel computing / 并行计算的核心数\n",
    "# }\n",
    "# qlib.init(**custom_config)"
   ]
  },
  {
   "cell_type": "markdown",
   "metadata": {},
   "source": [
    "### 3.2 Download Data / 下载数据\n",
    "\n",
    "Qlib需要历史市场数据才能运行。首次使用时需要下载数据。"
   ]
  },
  {
   "cell_type": "code",
   "execution_count": 64,
   "metadata": {},
   "outputs": [
    {
     "name": "stderr",
     "output_type": "stream",
     "text": [
      "\u001b[32m2025-09-10 00:51:26.194\u001b[0m | \u001b[33m\u001b[1mWARNING \u001b[0m | \u001b[36mqlib.tests.data\u001b[0m:\u001b[36mqlib_data\u001b[0m:\u001b[36m195\u001b[0m - \u001b[33m\u001b[1mData already exists: ~/.qlib/qlib_data/cn_data, the data download will be skipped\n",
      "\tIf downloading is required: `exists_skip=False` or `change target_dir`\u001b[0m\n"
     ]
    },
    {
     "name": "stdout",
     "output_type": "stream",
     "text": [
      "✅ Data download complete\n"
     ]
    }
   ],
   "source": [
    "from qlib.tests.data import GetData\n",
    "\n",
    "# Download CN (China A-share) data / 下载中国A股数据\n",
    "# This will download about 1GB of data / 这将下载约1GB的数据\n",
    "# Set exists_skip=True to skip if data already exists / 设置exists_skip=True以跳过已存在的数据\n",
    "GetData().qlib_data(exists_skip=True)\n",
    "\n",
    "print(\"✅ Data download complete\")"
   ]
  },
  {
   "cell_type": "markdown",
   "metadata": {},
   "source": [
    "## 4. Qlib Architecture / Qlib架构 <a id='qlib-architecture'></a>\n",
    "\n",
    "### Core Components / 核心组件\n",
    "\n",
    "```\n",
    "┌─────────────────────────────────────────────────────────────┐\n",
    "│                     Qlib Architecture                       │\n",
    "├─────────────────────────────────────────────────────────────┤\n",
    "│                                                             │\n",
    "│  ┌─────────────┐  ┌─────────────┐  ┌─────────────┐       │\n",
    "│  │   Data      │  │   Model     │  │  Portfolio  │       │\n",
    "│  │   Layer     │→ │   Layer     │→ │  Layer      │       │\n",
    "│  └─────────────┘  └─────────────┘  └─────────────┘       │\n",
    "│         ↓                ↓                ↓               │\n",
    "│  ┌─────────────────────────────────────────────┐         │\n",
    "│  │           Workflow Management                │         │\n",
    "│  │         (Experiment Tracking)                │         │\n",
    "│  └─────────────────────────────────────────────┘         │\n",
    "│                                                             │\n",
    "└─────────────────────────────────────────────────────────────┘\n",
    "```\n",
    "\n",
    "1. **Data Layer / 数据层**\n",
    "   - Data retrieval and storage / 数据检索和存储\n",
    "   - Feature engineering / 特征工程\n",
    "   - Data preprocessing / 数据预处理\n",
    "\n",
    "2. **Model Layer / 模型层**\n",
    "   - ML models for prediction / 用于预测的机器学习模型\n",
    "   - Training and inference / 训练和推理\n",
    "   - Model management / 模型管理\n",
    "\n",
    "3. **Portfolio Layer / 组合层**\n",
    "   - Strategy execution / 策略执行\n",
    "   - Backtesting / 回测\n",
    "   - Risk management / 风险管理\n",
    "\n",
    "4. **Workflow Management / 工作流管理**\n",
    "   - Experiment tracking / 实验跟踪\n",
    "   - Result analysis / 结果分析\n",
    "   - Reproducibility / 可重现性"
   ]
  },
  {
   "cell_type": "markdown",
   "metadata": {},
   "source": [
    "## 5. Key Concepts / 核心概念 <a id='key-concepts'></a>"
   ]
  },
  {
   "cell_type": "code",
   "execution_count": 65,
   "metadata": {},
   "outputs": [],
   "source": [
    "# Import commonly used modules / 导入常用模块\n",
    "from qlib.data import D  # Data API\n",
    "from qlib.config import C  # Config API\n",
    "import pandas as pd\n",
    "import numpy as np"
   ]
  },
  {
   "cell_type": "markdown",
   "metadata": {},
   "source": [
    "### 5.1 Instruments / 股票标的"
   ]
  },
  {
   "cell_type": "code",
   "execution_count": 66,
   "metadata": {},
   "outputs": [
    {
     "name": "stdout",
     "output_type": "stream",
     "text": [
      "CSI300 instruments type: <class 'dict'>\n",
      "Example format: {'market': 'csi300', 'filter_pipe': []}\n",
      "\n",
      "每月成分股数量（沪深300动态股票池）:\n",
      "==================================================\n",
      "2023-10 的成分股数量: 300\n",
      "2023-11 的成分股数量: 300\n",
      "2023-12 的成分股数量: 314\n",
      "2024-01 的成分股数量: 300\n",
      "2024-02 的成分股数量: 300\n",
      "2024-03 的成分股数量: 300\n",
      "2024-04 的成分股数量: 300\n",
      "2024-05 的成分股数量: 300\n",
      "2024-06 的成分股数量: 312\n",
      "2024-07 的成分股数量: 300\n",
      "2024-08 的成分股数量: 300\n",
      "2024-09 的成分股数量: 300\n",
      "2024-10 的成分股数量: 300\n",
      "2024-11 的成分股数量: 300\n",
      "2024-12 的成分股数量: 316\n",
      "2025-01 的成分股数量: 300\n",
      "2025-02 的成分股数量: 300\n",
      "2025-03 的成分股数量: 300\n",
      "2025-04 的成分股数量: 300\n",
      "2025-05 的成分股数量: 300\n",
      "2025-06 的成分股数量: 308\n",
      "2025-07 的成分股数量: 300\n",
      "2025-08 的成分股数量: 300\n",
      "2025-09 的成分股数量: 300\n",
      "\n",
      "注意：沪深300成分股每半年调整一次（6月和12月）\n"
     ]
    }
   ],
   "source": [
    "# Get instrument list / 获取股票列表\n",
    "\n",
    "# Static universe (fixed stock pool) / 静态股票池（固定股票池）\n",
    "instruments = D.instruments(market='csi300') # 沪深300\n",
    "print(f\"CSI300 instruments type: {type(instruments)}\")\n",
    "print(f\"Example format: {instruments}\\n\")\n",
    "\n",
    "# Dynamic universe (changes over time) / 动态股票池（随时间变化）\n",
    "# Get CSI300 constituents for a specific date range\n",
    "# 获取特定日期范围的沪深300成分股\n",
    "dynamic_instruments = D.list_instruments(\n",
    "    instruments=D.instruments('csi300'),\n",
    "    start_time='2020-01-01',\n",
    "    end_time=pd.Timestamp.now()\n",
    ")\n",
    "\n",
    "# 生成每月的首日列表\n",
    "month_starts = pd.date_range(start='2020-01-01', end=pd.Timestamp.now(), freq='MS')\n",
    "\n",
    "print(\"每月成分股数量（沪深300动态股票池）:\")\n",
    "print(\"=\"*50)\n",
    "\n",
    "# 只显示最近12个月的数据作为演示\n",
    "recent_months = month_starts[-24:]\n",
    "for idx, month_start in enumerate(recent_months):\n",
    "    # 计算该月的结束日期\n",
    "    if idx < len(recent_months) - 1:\n",
    "        month_end = recent_months[idx + 1] - pd.Timedelta(days=1)\n",
    "    else:\n",
    "        month_end = pd.Timestamp.now()\n",
    "    \n",
    "    try:\n",
    "        # 获取该月的成分股\n",
    "        month_instruments = D.list_instruments(\n",
    "            instruments=D.instruments('csi300'),\n",
    "            start_time=month_start.strftime('%Y-%m-%d'),\n",
    "            end_time=month_end.strftime('%Y-%m-%d')\n",
    "        )\n",
    "        print(f\"{month_start.strftime('%Y-%m')} 的成分股数量: {len(month_instruments)}\")\n",
    "    except Exception as e:\n",
    "        print(f\"{month_start.strftime('%Y-%m')} 获取失败: {e}\")\n",
    "\n",
    "print(\"\\n注意：沪深300成分股每半年调整一次（6月和12月）\")\n",
    "\n",
    "\n"
   ]
  },
  {
   "cell_type": "markdown",
   "metadata": {},
   "source": [
    "### 5.2 Calendar / 交易日历"
   ]
  },
  {
   "cell_type": "code",
   "execution_count": 67,
   "metadata": {},
   "outputs": [
    {
     "name": "stdout",
     "output_type": "stream",
     "text": [
      "Trading days in Jan 2024: 22 days\n",
      "First 5 trading days:\n",
      "[Timestamp('2024-01-02 00:00:00') Timestamp('2024-01-03 00:00:00')\n",
      " Timestamp('2024-01-04 00:00:00') Timestamp('2024-01-05 00:00:00')\n",
      " Timestamp('2024-01-08 00:00:00')]\n",
      "\n",
      "Last 5 trading days:\n",
      "[Timestamp('2024-01-25 00:00:00') Timestamp('2024-01-26 00:00:00')\n",
      " Timestamp('2024-01-29 00:00:00') Timestamp('2024-01-30 00:00:00')\n",
      " Timestamp('2024-01-31 00:00:00')]\n"
     ]
    }
   ],
   "source": [
    "# Get trading calendar / 获取交易日历\n",
    "# This shows all trading days (excludes weekends and holidays)\n",
    "# 显示所有交易日（不包括周末和节假日）\n",
    "\n",
    "calendar = D.calendar(\n",
    "    start_time='2024-01-01',\n",
    "    end_time='2024-01-31',\n",
    "    freq='day'\n",
    ")\n",
    "\n",
    "print(f\"Trading days in Jan 2024: {len(calendar)} days\")\n",
    "print(f\"First 5 trading days:\\n{calendar[:5]}\")\n",
    "print(f\"\\nLast 5 trading days:\\n{calendar[-5:]}\")"
   ]
  },
  {
   "cell_type": "markdown",
   "metadata": {},
   "source": [
    "### 5.3 Features / 特征数据"
   ]
  },
  {
   "cell_type": "code",
   "execution_count": 68,
   "metadata": {},
   "outputs": [
    {
     "name": "stdout",
     "output_type": "stream",
     "text": [
      "Raw price data / 原始价格数据:\n",
      "                            $open       $high        $low      $close  \\\n",
      "instrument datetime                                                     \n",
      "SH600000   2024-01-02    9.608777    9.637763    9.565298    9.565298   \n",
      "           2024-01-03    9.550671    9.637627    9.550671    9.623135   \n",
      "           2024-01-04    9.623202    9.666680    9.492767    9.594216   \n",
      "           2024-01-05    9.565030    9.796910    9.550538    9.680970   \n",
      "           2024-01-08    9.680803    9.724279    9.506896    9.550373   \n",
      "           2024-01-09    9.564799    9.622767    9.477846    9.579291   \n",
      "           2024-01-10    9.579425    9.608409    9.521455    9.521455   \n",
      "SH600519   2024-01-02  227.355698  227.778595  222.463898  223.379959   \n",
      "           2024-01-03  222.862976  224.733521  222.229294  224.571793   \n",
      "           2024-01-04  224.439117  224.439117  220.452774  221.257462   \n",
      "\n",
      "                             $volume   $factor  \n",
      "instrument datetime                             \n",
      "SH600000   2024-01-02  152258.937500  1.449288  \n",
      "           2024-01-03  125605.921875  1.449267  \n",
      "           2024-01-04  199312.968750  1.449277  \n",
      "           2024-01-05  306513.562500  1.449247  \n",
      "           2024-01-08  258899.593750  1.449222  \n",
      "           2024-01-09  212128.375000  1.449212  \n",
      "           2024-01-10  153467.109375  1.449232  \n",
      "SH600519   2024-01-02  242563.937500  0.132569  \n",
      "           2024-01-03  152594.484375  0.132569  \n",
      "           2024-01-04  162565.078125  0.132569  \n"
     ]
    }
   ],
   "source": [
    "# Basic price and volume features / 基础价格和成交量特征\n",
    "# $ prefix indicates field name / $前缀表示字段名\n",
    "\n",
    "basic_features = [\n",
    "    \"$open\",   # 开盘价\n",
    "    \"$high\",   # 最高价\n",
    "    \"$low\",    # 最低价\n",
    "    \"$close\",  # 收盘价\n",
    "    \"$volume\", # 成交量\n",
    "    \"$factor\", # 复权因子\n",
    "]\n",
    "\n",
    "# Get data for specific stocks / 获取特定股票的数据\n",
    "data = D.features(\n",
    "    instruments=['SH600000', 'SH600519'],  # 浦发银行, 贵州茅台\n",
    "    fields=basic_features,\n",
    "    start_time='2024-01-01',\n",
    "    end_time='2024-01-10',\n",
    "    freq='day'\n",
    ")\n",
    "\n",
    "print(\"Raw price data / 原始价格数据:\")\n",
    "print(data.head(10))"
   ]
  },
  {
   "cell_type": "markdown",
   "metadata": {},
   "source": [
    "### 5.4 Expression Engine / 表达式引擎"
   ]
  },
  {
   "cell_type": "code",
   "execution_count": 69,
   "metadata": {},
   "outputs": [
    {
     "name": "stdout",
     "output_type": "stream",
     "text": [
      "Technical indicators / 技术指标:\n",
      "                       prev_close  daily_return         ma5        ma20  \\\n",
      "instrument datetime                                                       \n",
      "SH600519   2024-01-18  209.061249      0.021478  215.036346  220.034515   \n",
      "           2024-01-19  213.551376      0.014979  214.822647  219.802521   \n",
      "           2024-01-22  216.750122      0.004282  214.875687  219.612625   \n",
      "           2024-01-23  217.678253     -0.014007  214.334030  219.261307   \n",
      "           2024-01-24  214.629150      0.004324  215.633209  218.969666   \n",
      "           2024-01-25  215.557114      0.007380  216.352524  218.777039   \n",
      "           2024-01-26  217.147964     -0.000416  216.414032  218.195923   \n",
      "           2024-01-29  217.057709      0.007744  216.626114  217.692169   \n",
      "           2024-01-30  218.738647     -0.022424  216.467010  217.214844   \n",
      "           2024-01-31  213.833649     -0.005015  215.907852  216.624313   \n",
      "\n",
      "                       volatility  daily_range  volume_ratio  \n",
      "instrument datetime                                           \n",
      "SH600519   2024-01-18    4.563269     0.035540      1.325532  \n",
      "           2024-01-19    4.608449     0.022709      1.547644  \n",
      "           2024-01-22    4.614098     0.014689      1.688627  \n",
      "           2024-01-23    4.716723     0.019117      1.685055  \n",
      "           2024-01-24    4.758319     0.018622      1.507129  \n",
      "           2024-01-25    4.749755     0.011599      1.275669  \n",
      "           2024-01-26    4.147127     0.012887      1.169043  \n",
      "           2024-01-29    3.318625     0.012297      1.057300  \n",
      "           2024-01-30    3.139164     0.024786      1.032916  \n",
      "           2024-01-31    2.771737     0.013608      0.993215  \n",
      "\n",
      "Data shape: (22, 7)\n"
     ]
    }
   ],
   "source": [
    "# Qlib's expression engine allows complex feature calculation\n",
    "# Qlib的表达式引擎允许复杂的特征计算\n",
    "\n",
    "# Calculate technical indicators / 计算技术指标\n",
    "technical_features = [\n",
    "    \"Ref($close, 1)\",                    # Yesterday's close / 昨日收盘价\n",
    "    \"$close / Ref($close, 1) - 1\",       # Daily return / 日收益率\n",
    "    \"Mean($close, 5)\",                   # 5-day moving average / 5日均线\n",
    "    \"Mean($close, 20)\",                  # 20-day moving average / 20日均线\n",
    "    \"Std($close, 20)\",                   # 20-day volatility / 20日波动率\n",
    "    \"($high - $low) / $close\",           # Daily range / 日内振幅\n",
    "    \"Mean($volume, 5) / Mean($volume, 20)\",  # Volume ratio / 量比\n",
    "]\n",
    "\n",
    "# Feature names for display / 用于显示的特征名称\n",
    "feature_names = [\n",
    "    \"prev_close\",\n",
    "    \"daily_return\",\n",
    "    \"ma5\",\n",
    "    \"ma20\",\n",
    "    \"volatility\",\n",
    "    \"daily_range\",\n",
    "    \"volume_ratio\"\n",
    "]\n",
    "\n",
    "# Calculate features / 计算特征\n",
    "tech_data = D.features(\n",
    "    instruments=['SH600519'],  # 贵州茅台\n",
    "    fields=technical_features,\n",
    "    start_time='2024-01-01',\n",
    "    end_time='2024-01-31',\n",
    "    freq='day'\n",
    ")\n",
    "tech_data.columns = feature_names\n",
    "\n",
    "print(\"Technical indicators / 技术指标:\")\n",
    "print(tech_data.tail(10))\n",
    "print(f\"\\nData shape: {tech_data.shape}\")"
   ]
  },
  {
   "cell_type": "markdown",
   "metadata": {},
   "source": [
    "## 6. Setting Up Your First Experiment / 设置第一个实验 <a id='first-experiment'></a>"
   ]
  },
  {
   "cell_type": "code",
   "execution_count": 70,
   "metadata": {},
   "outputs": [
    {
     "name": "stdout",
     "output_type": "stream",
     "text": [
      "Experiment Configuration / 实验配置:\n",
      "==================================================\n",
      "Market: csi300\n",
      "Benchmark: SH000300\n",
      "Experiment Name: tutorial_exp\n",
      "\n",
      "Time Periods / 时间段:\n",
      "  Training:   2008-01-01 to 2014-12-31\n",
      "  Validation: 2015-01-01 to 2016-12-31\n",
      "  Testing:    2017-01-01 to 2020-08-01\n"
     ]
    }
   ],
   "source": [
    "# Define experiment parameters / 定义实验参数\n",
    "# These will be used throughout the workflow / 这些将在整个工作流程中使用\n",
    "\n",
    "# Market configuration / 市场配置\n",
    "MARKET = \"csi300\"          # Target market / 目标市场\n",
    "BENCHMARK = \"SH000300\"     # Benchmark index / 基准指数\n",
    "\n",
    "# Experiment configuration / 实验配置\n",
    "EXP_NAME = \"tutorial_exp\"  # Experiment name / 实验名称\n",
    "\n",
    "# Time configuration / 时间配置\n",
    "TRAIN_START = \"2008-01-01\"  # Training start date / 训练集开始日期\n",
    "TRAIN_END = \"2014-12-31\"    # Training end date / 训练集结束日期\n",
    "VALID_START = \"2015-01-01\"  # Validation start date / 验证集开始日期\n",
    "VALID_END = \"2016-12-31\"    # Validation end date / 验证集结束日期\n",
    "TEST_START = \"2017-01-01\"   # Test start date / 测试集开始日期\n",
    "TEST_END = \"2020-08-01\"     # Test end date / 测试集结束日期\n",
    "\n",
    "print(\"Experiment Configuration / 实验配置:\")\n",
    "print(\"=\" * 50)\n",
    "print(f\"Market: {MARKET}\")\n",
    "print(f\"Benchmark: {BENCHMARK}\")\n",
    "print(f\"Experiment Name: {EXP_NAME}\")\n",
    "print(f\"\\nTime Periods / 时间段:\")\n",
    "print(f\"  Training:   {TRAIN_START} to {TRAIN_END}\")\n",
    "print(f\"  Validation: {VALID_START} to {VALID_END}\")\n",
    "print(f\"  Testing:    {TEST_START} to {TEST_END}\")"
   ]
  },
  {
   "cell_type": "markdown",
   "metadata": {},
   "source": [
    "## 7. Common Configuration Patterns / 常用配置模式 <a id='configuration-patterns'></a>"
   ]
  },
  {
   "cell_type": "code",
   "execution_count": 71,
   "metadata": {},
   "outputs": [
    {
     "name": "stdout",
     "output_type": "stream",
     "text": [
      "Configuration examples created successfully!\n",
      "These configurations will be used in subsequent notebooks.\n"
     ]
    }
   ],
   "source": [
    "# Configuration dictionary pattern / 配置字典模式\n",
    "# Qlib uses configuration dictionaries extensively / Qlib广泛使用配置字典\n",
    "\n",
    "# Example: Model configuration / 示例：模型配置\n",
    "model_config = {\n",
    "    \"class\": \"LGBModel\",\n",
    "    \"module_path\": \"qlib.contrib.model.gbdt\",\n",
    "    \"kwargs\": {\n",
    "        \"loss\": \"mse\",\n",
    "        \"colsample_bytree\": 0.8879,\n",
    "        \"learning_rate\": 0.0421,\n",
    "        \"subsample\": 0.8789,\n",
    "        \"lambda_l1\": 205.6999,\n",
    "        \"lambda_l2\": 580.9768,\n",
    "        \"max_depth\": 8,\n",
    "        \"num_leaves\": 210,\n",
    "        \"num_threads\": 20,\n",
    "    }\n",
    "}\n",
    "\n",
    "# Example: Data handler configuration / 示例：数据处理器配置\n",
    "handler_config = {\n",
    "    \"class\": \"Alpha158\",\n",
    "    \"module_path\": \"qlib.contrib.data.handler\",\n",
    "    \"kwargs\": {\n",
    "        \"start_time\": TRAIN_START,\n",
    "        \"end_time\": TEST_END,\n",
    "        \"fit_start_time\": TRAIN_START,\n",
    "        \"fit_end_time\": TRAIN_END,\n",
    "        \"instruments\": MARKET,\n",
    "    }\n",
    "}\n",
    "\n",
    "# Example: Dataset configuration / 示例：数据集配置\n",
    "dataset_config = {\n",
    "    \"class\": \"DatasetH\",\n",
    "    \"module_path\": \"qlib.data.dataset\",\n",
    "    \"kwargs\": {\n",
    "        \"handler\": handler_config,\n",
    "        \"segments\": {\n",
    "            \"train\": (TRAIN_START, TRAIN_END),\n",
    "            \"valid\": (VALID_START, VALID_END),\n",
    "            \"test\": (TEST_START, TEST_END),\n",
    "        },\n",
    "    },\n",
    "}\n",
    "\n",
    "print(\"Configuration examples created successfully!\")\n",
    "print(\"These configurations will be used in subsequent notebooks.\")"
   ]
  },
  {
   "cell_type": "markdown",
   "metadata": {},
   "source": [
    "## 8. Workflow Management / 工作流管理"
   ]
  },
  {
   "cell_type": "code",
   "execution_count": 72,
   "metadata": {},
   "outputs": [
    {
     "name": "stdout",
     "output_type": "stream",
     "text": [
      "Experiment Configuration / 实验配置:\n",
      "==================================================\n",
      "Experiment Name: tutorial_exp\n",
      "Market: csi300\n",
      "Benchmark: SH000300\n",
      "\n",
      "To start an experiment, use:\n",
      "要启动实验，请使用：\n",
      "\n",
      "with R.start(experiment_name=EXP_NAME):\n",
      "    # Your model training code here\n",
      "    # 你的模型训练代码\n",
      "    pass\n",
      "\n",
      "Note: R.start() will be used in subsequent notebooks for actual experiments\n",
      "注意：R.start()将在后续notebook中用于实际实验\n"
     ]
    }
   ],
   "source": [
    "# Qlib uses MLflow for experiment tracking / Qlib使用MLflow进行实验跟踪\n",
    "from qlib.workflow import R\n",
    "\n",
    "# Start experiment using R.start() / 使用R.start()启动实验\n",
    "# This is the recommended way to create and manage experiments in Qlib\n",
    "# 这是Qlib中创建和管理实验的推荐方式\n",
    "\n",
    "print(\"Experiment Configuration / 实验配置:\")\n",
    "print(\"=\" * 50)\n",
    "print(f\"Experiment Name: {EXP_NAME}\")\n",
    "print(f\"Market: {MARKET}\")\n",
    "print(f\"Benchmark: {BENCHMARK}\")\n",
    "\n",
    "# Example of using R.start() context manager\n",
    "# R.start()上下文管理器的示例\n",
    "print(\"\\nTo start an experiment, use:\")\n",
    "print(\"要启动实验，请使用：\")\n",
    "print(\"\"\"\n",
    "with R.start(experiment_name=EXP_NAME):\n",
    "    # Your model training code here\n",
    "    # 你的模型训练代码\n",
    "    pass\n",
    "\"\"\")"
   ]
  },
  {
   "cell_type": "markdown",
   "metadata": {},
   "source": [
    "## 9. Best Practices / 最佳实践"
   ]
  },
  {
   "cell_type": "markdown",
   "metadata": {},
   "source": [
    "### 9.1 Memory Management / 内存管理\n",
    "\n",
    "```python\n",
    "# Good practice: Load data in chunks / 好习惯：分块加载数据\n",
    "# Avoid loading entire market data at once / 避免一次加载整个市场数据\n",
    "\n",
    "# Bad / 不好\n",
    "# all_data = D.features(D.instruments('all'), fields, '2008-01-01', '2024-12-31')\n",
    "\n",
    "# Good / 好\n",
    "# for year in range(2008, 2025):\n",
    "#     yearly_data = D.features(instruments, fields, f'{year}-01-01', f'{year}-12-31')\n",
    "#     process(yearly_data)\n",
    "```\n",
    "\n",
    "### 9.2 Error Handling / 错误处理\n",
    "\n",
    "```python\n",
    "# Always check data availability / 始终检查数据可用性\n",
    "try:\n",
    "    data = D.features(['SH600000'], ['$close'], '2024-01-01', '2024-01-31')\n",
    "    if data.empty:\n",
    "        print(\"Warning: No data available\")\n",
    "except Exception as e:\n",
    "    print(f\"Error loading data: {e}\")\n",
    "```\n",
    "\n",
    "### 9.3 Reproducibility / 可重现性\n",
    "\n",
    "```python\n",
    "# Set random seeds for reproducibility / 设置随机种子以确保可重现性\n",
    "import random\n",
    "SEED = 42\n",
    "np.random.seed(SEED)\n",
    "random.seed(SEED)\n",
    "```"
   ]
  },
  {
   "cell_type": "markdown",
   "metadata": {},
   "source": [
    "## 10. Quick Reference / 快速参考"
   ]
  },
  {
   "cell_type": "code",
   "execution_count": 73,
   "metadata": {},
   "outputs": [
    {
     "name": "stdout",
     "output_type": "stream",
     "text": [
      "Common Qlib Imports / 常用Qlib导入:\n",
      "=====================================\n",
      "import qlib\n",
      "from qlib.data import D                          # Data API\n",
      "from qlib.config import C                        # Config API\n",
      "from qlib.workflow import R                      # Recorder API\n",
      "from qlib.workflow.exp import Experiment         # Experiment management\n",
      "from qlib.utils import init_instance_by_config   # Config instantiation\n",
      "from qlib.data.dataset import DatasetH, TSDatasetH  # Dataset classes\n",
      "from qlib.data.dataset.handler import DataHandlerLP # Data handler\n",
      "from qlib.contrib.data.handler import Alpha158   # Pre-built feature set\n",
      "from qlib.contrib.model.gbdt import LGBModel     # LightGBM model\n",
      "from qlib.contrib.report import analysis_model, analysis_position\n",
      "\n",
      "\n",
      "Common Operations / 常用操作:\n",
      "========================================\n",
      "# Initialize Qlib / 初始化Qlib\n",
      "qlib.init()\n",
      "\n",
      "# Get instruments / 获取股票\n",
      "instruments = D.instruments('csi300')\n",
      "\n",
      "# Get calendar / 获取日历\n",
      "calendar = D.calendar('2024-01-01', '2024-12-31')\n",
      "\n",
      "# Get features / 获取特征\n",
      "data = D.features(instruments, fields, start, end)\n",
      "\n",
      "# Start experiment / 开始实验\n",
      "with R.start(experiment_name='exp_name'):\n",
      "    # training code\n",
      "    pass\n",
      "\n"
     ]
    }
   ],
   "source": [
    "# Common imports / 常用导入\n",
    "print(\"\"\"Common Qlib Imports / 常用Qlib导入:\n",
    "=====================================\n",
    "import qlib\n",
    "from qlib.data import D                          # Data API\n",
    "from qlib.config import C                        # Config API\n",
    "from qlib.workflow import R                      # Recorder API\n",
    "from qlib.workflow.exp import Experiment         # Experiment management\n",
    "from qlib.utils import init_instance_by_config   # Config instantiation\n",
    "from qlib.data.dataset import DatasetH, TSDatasetH  # Dataset classes\n",
    "from qlib.data.dataset.handler import DataHandlerLP # Data handler\n",
    "from qlib.contrib.data.handler import Alpha158   # Pre-built feature set\n",
    "from qlib.contrib.model.gbdt import LGBModel     # LightGBM model\n",
    "from qlib.contrib.report import analysis_model, analysis_position\n",
    "\"\"\")\n",
    "\n",
    "print(\"\\nCommon Operations / 常用操作:\")\n",
    "print(\"=\"*40)\n",
    "print(\"\"\"# Initialize Qlib / 初始化Qlib\n",
    "qlib.init()\n",
    "\n",
    "# Get instruments / 获取股票\n",
    "instruments = D.instruments('csi300')\n",
    "\n",
    "# Get calendar / 获取日历\n",
    "calendar = D.calendar('2024-01-01', '2024-12-31')\n",
    "\n",
    "# Get features / 获取特征\n",
    "data = D.features(instruments, fields, start, end)\n",
    "\n",
    "# Start experiment / 开始实验\n",
    "with R.start(experiment_name='exp_name'):\n",
    "    # training code\n",
    "    pass\n",
    "\"\"\")"
   ]
  },
  {
   "cell_type": "markdown",
   "metadata": {},
   "source": [
    "## Next Steps / 下一步 <a id='next-steps'></a>\n",
    "\n",
    "### 📚 Continue with the following notebooks / 继续学习以下notebook：\n",
    "\n",
    "1. **[02_data_module.ipynb](./02_data_module.ipynb)**\n",
    "   - Deep dive into data loading and preprocessing / 深入了解数据加载和预处理\n",
    "   - Learn about DataLoader, DataHandler, and Datasets / 学习DataLoader、DataHandler和Datasets\n",
    "\n",
    "2. **[03_model_training.ipynb](./03_model_training.ipynb)**\n",
    "   - Train your first prediction model / 训练你的第一个预测模型\n",
    "   - Understand model interfaces and training workflow / 理解模型接口和训练工作流\n",
    "\n",
    "3. **[04_evaluation_module.ipynb](./04_evaluation_module.ipynb)**\n",
    "   - Learn backtesting and performance evaluation / 学习回测和性能评估\n",
    "   - Analyze trading strategies / 分析交易策略\n",
    "\n",
    "4. **[05_utils_and_helpers.ipynb](./05_utils_and_helpers.ipynb)**\n",
    "   - Utility functions and advanced features / 工具函数和高级功能\n",
    "   - Tips and tricks for efficient research / 高效研究的技巧和窍门\n",
    "\n",
    "### 📖 Additional Resources / 额外资源\n",
    "\n",
    "- [Qlib Documentation](https://qlib.readthedocs.io/)\n",
    "- [Qlib GitHub Repository](https://github.com/microsoft/qlib)\n",
    "- [Qlib Examples](https://github.com/microsoft/qlib/tree/main/examples)\n",
    "- [Qlib Paper](https://arxiv.org/abs/2009.11189)"
   ]
  },
  {
   "cell_type": "markdown",
   "metadata": {},
   "source": [
    "## Summary / 总结\n",
    "\n",
    "In this notebook, we covered / 在本notebook中，我们介绍了：\n",
    "\n",
    "✅ **Qlib installation and setup** / Qlib安装和设置  \n",
    "✅ **Basic configuration** / 基础配置  \n",
    "✅ **Core concepts** (instruments, calendar, features) / 核心概念（股票、日历、特征）  \n",
    "✅ **Expression engine** for feature calculation / 用于特征计算的表达式引擎  \n",
    "✅ **Experiment setup** / 实验设置  \n",
    "✅ **Best practices** / 最佳实践  \n",
    "\n",
    "You are now ready to proceed with the data module! / 你现在可以继续学习数据模块了！"
   ]
  },
  {
   "cell_type": "code",
   "execution_count": 78,
   "metadata": {},
   "outputs": [
    {
     "name": "stdout",
     "output_type": "stream",
     "text": [
      "Configuration saved to experiment_config.json\n",
      "You can load this in other notebooks using:\n",
      "\n",
      "with open('experiment_config.json', 'r') as f:\n",
      "    config = json.load(f)\n"
     ]
    }
   ],
   "source": [
    "# Save configuration for use in other notebooks / 保存配置供其他notebook使用\n",
    "import json\n",
    "\n",
    "config = {\n",
    "    \"market\": MARKET,\n",
    "    \"benchmark\": BENCHMARK,\n",
    "    \"exp_name\": EXP_NAME,\n",
    "    \"train_start\": TRAIN_START,\n",
    "    \"train_end\": TRAIN_END,\n",
    "    \"valid_start\": VALID_START,\n",
    "    \"valid_end\": VALID_END,\n",
    "    \"test_start\": TEST_START,\n",
    "    \"test_end\": TEST_END,\n",
    "}\n",
    "\n",
    "# Save to file / 保存到文件\n",
    "with open('experiment_config.json', 'w') as f:\n",
    "    json.dump(config, f, indent=2)\n",
    "\n",
    "print(\"Configuration saved to experiment_config.json\")\n",
    "print(\"You can load this in other notebooks using:\")\n",
    "print(\"\"\"\\nwith open('experiment_config.json', 'r') as f:\n",
    "    config = json.load(f)\"\"\")"
   ]
  }
 ],
 "metadata": {
  "kernelspec": {
   "display_name": "qlib",
   "language": "python",
   "name": "python3"
  },
  "language_info": {
   "codemirror_mode": {
    "name": "ipython",
    "version": 3
   },
   "file_extension": ".py",
   "mimetype": "text/x-python",
   "name": "python",
   "nbconvert_exporter": "python",
   "pygments_lexer": "ipython3",
   "version": "3.12.11"
  }
 },
 "nbformat": 4,
 "nbformat_minor": 4
}
